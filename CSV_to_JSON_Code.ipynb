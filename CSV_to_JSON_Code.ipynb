{
  "nbformat": 4,
  "nbformat_minor": 0,
  "metadata": {
    "colab": {
      "provenance": []
    },
    "kernelspec": {
      "name": "python3",
      "display_name": "Python 3"
    },
    "language_info": {
      "name": "python"
    }
  },
  "cells": [
    {
      "cell_type": "code",
      "execution_count": null,
      "metadata": {
        "colab": {
          "base_uri": "https://localhost:8080/"
        },
        "id": "Nnsr-27smPBi",
        "outputId": "8e4b5453-8468-4179-a124-5837ae80c7cf"
      },
      "outputs": [
        {
          "output_type": "stream",
          "name": "stdout",
          "text": [
            "CSV data has been successfully converted to JSON and saved as order_details.json.\n"
          ]
        }
      ],
      "source": [
        "import pandas as pd\n",
        "\n",
        "# Load the CSV file\n",
        "data_file = \"order_details.csv\"  # Update with the uploaded file path\n",
        "\n",
        "def process_csv_to_json(data_file):\n",
        "    try:\n",
        "        # Read the CSV file into a DataFrame\n",
        "        df = pd.read_csv(data_file)\n",
        "\n",
        "        # Set the index to start from 1\n",
        "        df.index = df.index + 1  # Adjust index to start from 1\n",
        "\n",
        "        # Reset the index and move it to the first column\n",
        "        df.reset_index(inplace=True)\n",
        "        df.rename(columns={'index': 'id'}, inplace=True)  # Rename the reset index column to 'id'\n",
        "\n",
        "        # Convert the DataFrame to JSON\n",
        "        json_output = df.to_json(orient=\"records\", lines=True)\n",
        "\n",
        "        # Save the JSON output to a file\n",
        "        output_file = \"order_details.json\"\n",
        "        with open(output_file, \"w\") as file:\n",
        "            file.write(json_output)\n",
        "\n",
        "        print(f\"CSV data has been successfully converted to JSON and saved as {output_file}.\")\n",
        "\n",
        "    except Exception as e:\n",
        "        print(f\"An error occurred: {e}\")\n",
        "\n",
        "# Process the file\n",
        "process_csv_to_json(data_file)\n"
      ]
    },
    {
      "cell_type": "code",
      "source": [
        "import pandas as pd\n",
        "from datetime import datetime\n",
        "\n",
        "# Load the CSV file\n",
        "data_file = \"orders.csv\"  # Update with the uploaded file path\n",
        "\n",
        "def process_csv_to_json(data_file):\n",
        "    try:\n",
        "        # Read the CSV file into a DataFrame\n",
        "        df = pd.read_csv(data_file)\n",
        "\n",
        "        # Define the date columns and ensure proper conversion to ISO 8601 format with 'Z'\n",
        "        date_columns = [\"OrderDate\", \"ShipDate\"]\n",
        "\n",
        "        for column in date_columns:\n",
        "            if column in df.columns:\n",
        "                df[column] = pd.to_datetime(df[column], errors='coerce')\n",
        "                df[column] = df[column].apply(lambda x: x.strftime('%Y-%m-%dT%H:%M:%S') if not pd.isnull(x) else None)\n",
        "            else:\n",
        "                print(f\"The specified date column '{column}' was not found in the CSV file.\")\n",
        "\n",
        "        # Set the index to start from 1\n",
        "        df.index = df.index + 1  # Adjust index to start from 1\n",
        "\n",
        "        # Reset the index and move it to the first column\n",
        "        df.reset_index(inplace=True)\n",
        "        df.rename(columns={'index': 'id'}, inplace=True)  # Rename the reset index column to 'id'\n",
        "\n",
        "        # Convert the DataFrame to JSON\n",
        "        json_output = df.to_json(orient=\"records\", lines=True)\n",
        "\n",
        "        # Save the JSON output to a file\n",
        "        output_file = \"orders.json\"\n",
        "        with open(output_file, \"w\") as file:\n",
        "            file.write(json_output)\n",
        "\n",
        "        print(f\"CSV data has been successfully converted to JSON and saved as {output_file}.\")\n",
        "\n",
        "    except Exception as e:\n",
        "        print(f\"An error occurred: {e}\")\n",
        "\n",
        "# Process the file\n",
        "process_csv_to_json(data_file)\n"
      ],
      "metadata": {
        "colab": {
          "base_uri": "https://localhost:8080/"
        },
        "id": "lbfJF86RnBVM",
        "outputId": "4c229046-2662-41eb-b1a5-786694a438a7"
      },
      "execution_count": null,
      "outputs": [
        {
          "output_type": "stream",
          "name": "stdout",
          "text": [
            "The specified date column 'OrderDate' was not found in the CSV file.\n",
            "The specified date column 'ShipDate' was not found in the CSV file.\n",
            "CSV data has been successfully converted to JSON and saved as orders.json.\n"
          ]
        }
      ]
    },
    {
      "cell_type": "code",
      "source": [
        "import pandas as pd\n",
        "from datetime import datetime\n",
        "\n",
        "# Load the CSV file\n",
        "data_file = \"pizza_types.csv\"  # Update with the uploaded file path\n",
        "\n",
        "def process_csv_to_json(data_file):\n",
        "    try:\n",
        "        # Read the CSV file into a DataFrame with explicit encoding\n",
        "        df = pd.read_csv(data_file, encoding='latin1')  # Use 'latin1' for broader compatibility\n",
        "\n",
        "        # Ensure all columns are processed correctly (no date columns in this case)\n",
        "\n",
        "        # Set the index to start from 1\n",
        "        df.index = df.index + 1  # Adjust index to start from 1\n",
        "\n",
        "        # Reset the index and move it to the first column\n",
        "        df.reset_index(inplace=True)\n",
        "        df.rename(columns={'index': 'id'}, inplace=True)  # Rename the reset index column to 'id'\n",
        "\n",
        "        # Convert the DataFrame to JSON\n",
        "        json_output = df.to_json(orient=\"records\", lines=True)\n",
        "\n",
        "        # Save the JSON output to a file\n",
        "        output_file = \"pizza_types.json\"\n",
        "        with open(output_file, \"w\") as file:\n",
        "            file.write(json_output)\n",
        "\n",
        "        print(f\"CSV data has been successfully converted to JSON and saved as {output_file}.\")\n",
        "\n",
        "    except Exception as e:\n",
        "        print(f\"An error occurred: {e}\")\n",
        "\n",
        "# Process the file\n",
        "process_csv_to_json(data_file)\n"
      ],
      "metadata": {
        "colab": {
          "base_uri": "https://localhost:8080/"
        },
        "id": "HTpmICdOnlSj",
        "outputId": "00c67917-ffd5-4371-8446-0dd34f93ecf8"
      },
      "execution_count": null,
      "outputs": [
        {
          "output_type": "stream",
          "name": "stdout",
          "text": [
            "CSV data has been successfully converted to JSON and saved as pizza_types.json.\n"
          ]
        }
      ]
    },
    {
      "cell_type": "code",
      "source": [
        "import pandas as pd\n",
        "from datetime import datetime\n",
        "\n",
        "# Load the CSV file\n",
        "data_file = \"pizzas.csv\"  # Update with the uploaded file path\n",
        "\n",
        "def process_csv_to_json(data_file):\n",
        "    try:\n",
        "        # Read the CSV file into a DataFrame\n",
        "        df = pd.read_csv(data_file)\n",
        "\n",
        "        # Ensure all columns are processed correctly (no date columns in this case)\n",
        "\n",
        "        # Set the index to start from 1\n",
        "        df.index = df.index + 1  # Adjust index to start from 1\n",
        "\n",
        "        # Reset the index and move it to the first column\n",
        "        df.reset_index(inplace=True)\n",
        "        df.rename(columns={'index': 'id'}, inplace=True)  # Rename the reset index column to 'id'\n",
        "\n",
        "        # Convert the DataFrame to JSON\n",
        "        json_output = df.to_json(orient=\"records\", lines=True)\n",
        "\n",
        "        # Save the JSON output to a file\n",
        "        output_file = \"pizzas.json\"\n",
        "        with open(output_file, \"w\") as file:\n",
        "            file.write(json_output)\n",
        "\n",
        "        print(f\"CSV data has been successfully converted to JSON and saved as {output_file}.\")\n",
        "\n",
        "    except Exception as e:\n",
        "        print(f\"An error occurred: {e}\")\n",
        "\n",
        "# Process the file\n",
        "process_csv_to_json(data_file)\n"
      ],
      "metadata": {
        "colab": {
          "base_uri": "https://localhost:8080/"
        },
        "id": "d5ABU62Qoh6-",
        "outputId": "3b264227-7f7b-47b0-a3c0-c94bc3e99898"
      },
      "execution_count": null,
      "outputs": [
        {
          "output_type": "stream",
          "name": "stdout",
          "text": [
            "CSV data has been successfully converted to JSON and saved as pizzas.json.\n"
          ]
        }
      ]
    },
    {
      "cell_type": "code",
      "source": [],
      "metadata": {
        "id": "3M77NX4SpE9w"
      },
      "execution_count": null,
      "outputs": []
    }
  ]
}