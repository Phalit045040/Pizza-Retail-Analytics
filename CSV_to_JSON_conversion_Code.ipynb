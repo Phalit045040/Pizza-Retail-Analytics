{
  "nbformat": 4,
  "nbformat_minor": 0,
  "metadata": {
    "colab": {
      "provenance": []
    },
    "kernelspec": {
      "name": "python3",
      "display_name": "Python 3"
    },
    "language_info": {
      "name": "python"
    }
  },
  "cells": [
    {
      "cell_type": "code",
      "execution_count": null,
      "metadata": {
        "colab": {
          "base_uri": "https://localhost:8080/"
        },
        "id": "_nlwSETdep_B",
        "outputId": "fd579ac2-bc21-43c3-d31c-2e4c3ad478d4"
      },
      "outputs": [
        {
          "output_type": "stream",
          "name": "stdout",
          "text": [
            "CSV data has been successfully converted to JSON and saved as employee_data.json.\n"
          ]
        }
      ],
      "source": [
        "import pandas as pd\n",
        "from datetime import datetime\n",
        "\n",
        "# Load the CSV file\n",
        "data_file = \"employee_data.csv\"  # Update with the uploaded file path\n",
        "\n",
        "def process_csv_to_json(data_file):\n",
        "    try:\n",
        "        # Read the CSV file into a DataFrame\n",
        "        df = pd.read_csv(data_file)\n",
        "\n",
        "        # Define the date columns and ensure proper conversion to ISO 8601 format\n",
        "        date_columns = [\"StartDate\", \"DOB\"]\n",
        "        for column in date_columns:\n",
        "            if column in df.columns:\n",
        "                df[column] = pd.to_datetime(df[column], errors='coerce', format='%d-%b-%y')\n",
        "                df[column] = df[column].apply(lambda x: x.strftime('%Y-%m-%dT%H:%M:%S') if not pd.isnull(x) else None)\n",
        "\n",
        "        # Set the index to start from 1\n",
        "        df.index = df.index + 1  # Adjust index to start from 1\n",
        "\n",
        "        # Reset the index and move it to the first column\n",
        "        df.reset_index(inplace=True)\n",
        "        df.rename(columns={'index': 'id'}, inplace=True)  # Rename the reset index column to 'id'\n",
        "\n",
        "        # Convert the DataFrame to JSON\n",
        "        json_output = df.to_json(orient=\"records\", lines=True)\n",
        "\n",
        "        # Save the JSON output to a file\n",
        "        output_file = \"employee_data.json\"\n",
        "        with open(output_file, \"w\") as file:\n",
        "            file.write(json_output)\n",
        "\n",
        "        print(f\"CSV data has been successfully converted to JSON and saved as {output_file}.\")\n",
        "\n",
        "    except Exception as e:\n",
        "        print(f\"An error occurred: {e}\")\n",
        "\n",
        "# Process the file\n",
        "process_csv_to_json(data_file)\n"
      ]
    },
    {
      "cell_type": "code",
      "source": [
        "import pandas as pd\n",
        "from datetime import datetime\n",
        "\n",
        "# Load the CSV file\n",
        "data_file = \"employee_engagement_survey_data.csv\"  # Update with the uploaded file path\n",
        "\n",
        "def process_csv_to_json(data_file):\n",
        "    try:\n",
        "        # Read the CSV file into a DataFrame\n",
        "        df = pd.read_csv(data_file)\n",
        "\n",
        "        # No date columns in this file, process directly\n",
        "\n",
        "        # Set the index to start from 1\n",
        "        df.index = df.index + 1  # Adjust index to start from 1\n",
        "\n",
        "        # Reset the index and move it to the first column\n",
        "        df.reset_index(inplace=True)\n",
        "        df.rename(columns={'index': 'id'}, inplace=True)  # Rename the reset index column to 'id'\n",
        "\n",
        "        # Convert the DataFrame to JSON\n",
        "        json_output = df.to_json(orient=\"records\", lines=True)\n",
        "\n",
        "        # Save the JSON output to a file\n",
        "        output_file = \"employee_engagement_survey_data.json\"\n",
        "        with open(output_file, \"w\") as file:\n",
        "            file.write(json_output)\n",
        "\n",
        "        print(f\"CSV data has been successfully converted to JSON and saved as {output_file}.\")\n",
        "\n",
        "    except Exception as e:\n",
        "        print(f\"An error occurred: {e}\")\n",
        "\n",
        "# Process the file\n",
        "process_csv_to_json(data_file)"
      ],
      "metadata": {
        "colab": {
          "base_uri": "https://localhost:8080/"
        },
        "id": "w--QjAe2ewrN",
        "outputId": "0aa700c0-bcfc-4561-d42c-e8471847bd27"
      },
      "execution_count": null,
      "outputs": [
        {
          "output_type": "stream",
          "name": "stdout",
          "text": [
            "CSV data has been successfully converted to JSON and saved as employee_engagement_survey_data.json.\n"
          ]
        }
      ]
    },
    {
      "cell_type": "code",
      "source": [],
      "metadata": {
        "id": "xJtqckrfftUc"
      },
      "execution_count": null,
      "outputs": []
    }
  ]
}